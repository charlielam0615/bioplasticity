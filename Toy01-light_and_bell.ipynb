{
 "cells": [
  {
   "cell_type": "code",
   "execution_count": null,
   "metadata": {},
   "outputs": [],
   "source": [
    "import numpy\n",
    "import maplotlib.pyplot as plt\n",
    "\n",
    "%matplotlib inline"
   ]
  },
  {
   "cell_type": "code",
   "execution_count": 1,
   "metadata": {},
   "outputs": [
    {
     "ename": "SyntaxError",
     "evalue": "invalid syntax (<ipython-input-1-926580a5207d>, line 10)",
     "output_type": "error",
     "traceback": [
      "\u001b[0;36m  File \u001b[0;32m\"<ipython-input-1-926580a5207d>\"\u001b[0;36m, line \u001b[0;32m10\u001b[0m\n\u001b[0;31m    self.v1 = np.\u001b[0m\n\u001b[0m                 ^\u001b[0m\n\u001b[0;31mSyntaxError\u001b[0m\u001b[0;31m:\u001b[0m invalid syntax\n"
     ]
    }
   ],
   "source": [
    "class ThreeLayerPopulation(object):\n",
    "    \n",
    "    state = ['light_on', 'light_off', 'bell_on', 'bell_off']\n",
    "    \n",
    "    def __init__(self):\n",
    "        self.v1 = np.\n",
    "        self.rest = -60e-3\n",
    "        self.th = -50e-3\n",
    "        \n",
    "        self.layer1 = {x:self.rest for x in ThreeLayerPopulation.state}\n",
    "        self.weight1to2 = np.random.rand(len(ThreeLayerPopulation.state), len(ThreeLayerPopulation.state))\n",
    "        \n",
    "        self.layer2 = {x:self.rest for x in range(len(ThreeLayerPopulation.state))}\n",
    "        self.weight2to3 = np.random.rand(len(ThreeLayerPopulation.state), int(len(ThreeLayerPopulation.state)/2))\n",
    "        self.layer2inh = self.rest\n",
    "        self.weight2toinh = np.ones((len(ThreeLayerPopulation.state), 1))\n",
    "        \n",
    "        self.layer3 = {x:self.rest for x in range(int(len(ThreeLayerPopulation.state)/2))}\n",
    "        self.layer3inh = self.rest\n",
    "        self.weight3toinh = np.ones((len(ThreeLayerPopulation.state)/2, 1))\n",
    "        \n",
    "    def stimulation(inputs, )"
   ]
  }
 ],
 "metadata": {
  "kernelspec": {
   "display_name": "Python 3",
   "language": "python",
   "name": "python3"
  },
  "language_info": {
   "codemirror_mode": {
    "name": "ipython",
    "version": 3
   },
   "file_extension": ".py",
   "mimetype": "text/x-python",
   "name": "python",
   "nbconvert_exporter": "python",
   "pygments_lexer": "ipython3",
   "version": "3.6.5"
  }
 },
 "nbformat": 4,
 "nbformat_minor": 2
}
